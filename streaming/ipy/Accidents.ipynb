{
  "nbformat": 4,
  "nbformat_minor": 0,
  "metadata": {
    "colab": {
      "name": "Accidents.ipynb",
      "provenance": []
    },
    "kernelspec": {
      "name": "python3",
      "display_name": "Python 3"
    },
    "language_info": {
      "name": "python"
    }
  },
  "cells": [
    {
      "cell_type": "code",
      "execution_count": 1,
      "metadata": {
        "id": "9maIhNudJkJG"
      },
      "outputs": [],
      "source": [
        "import pandas as pd\n",
        "from pandas import DataFrame"
      ]
    },
    {
      "cell_type": "code",
      "source": [
        "df = pd.read_csv ('Road_accidents.csv')\n",
        "df_time = pd.read_csv ('Road_accidents_time.csv')"
      ],
      "metadata": {
        "id": "d55BsCcHJ7bX"
      },
      "execution_count": 10,
      "outputs": []
    },
    {
      "cell_type": "code",
      "source": [
        "#1. Add column 'Total', giving sum of accidents in each month\n",
        "df['Total'] = df.iloc[:,2:].sum(axis = 1)\n",
        "df\n",
        "#axis=0 //horizontal(row) and axis=1 //vertical(column)"
      ],
      "metadata": {
        "colab": {
          "base_uri": "https://localhost:8080/",
          "height": 424
        },
        "id": "sTM3E5XeJ7VB",
        "outputId": "143b3578-7a82-4d0f-db55-3cf55e4ef490"
      },
      "execution_count": 14,
      "outputs": [
        {
          "output_type": "execute_result",
          "data": {
            "text/plain": [
              "          STATE/UT  YEAR  JANUARY  FEBRUARY  MARCH  APRIL   MAY  JUNE  JULY  \\\n",
              "0    A & N Islands  2001        8        23     15     15    14    19    14   \n",
              "1    A & N Islands  2002       12        10     14     16    10     7    16   \n",
              "2    A & N Islands  2003       19        13     15     13    13    12     8   \n",
              "3    A & N Islands  2004       21        14     22     17    13    18    16   \n",
              "4    A & N Islands  2005       19        21     22     17    13    19    21   \n",
              "..             ...   ...      ...       ...    ...    ...   ...   ...   ...   \n",
              "485    West Bengal  2010     1245      1150   1349   1246  1172  1284  1231   \n",
              "486    West Bengal  2011     1350      1179   1314   1148  1220  1241  1185   \n",
              "487    West Bengal  2012     1346      1383   1357   1270  1352  1434  1349   \n",
              "488    West Bengal  2013     1564      1382   1474   1392  1629  1391  1315   \n",
              "489    West Bengal  2014     1516      1398   1473   1385  1527  1439  1416   \n",
              "\n",
              "     AUGUST  SEPTEMBER  OCTOBER  NOVEMBER  DECEMBER  Total  \n",
              "0        19          7       12        13        22    181  \n",
              "1        11         23       21        11        17    168  \n",
              "2        16         17       25        14        15    180  \n",
              "3        19         16       20        15        24    215  \n",
              "4        14         15       19        10        16    206  \n",
              "..      ...        ...      ...       ...       ...    ...  \n",
              "485    1190       1128     1227      1251      1252  14725  \n",
              "486    1074       1112     1214      1161      1270  14468  \n",
              "487    1204       1112     1251      1179      1371  15608  \n",
              "488    1208       1228     1299      1335      1332  16549  \n",
              "489    1356       1391     1395      1415      1394  17105  \n",
              "\n",
              "[490 rows x 15 columns]"
            ],
            "text/html": [
              "\n",
              "  <div id=\"df-226a6fd1-0803-4107-ab69-dd74c04f6070\">\n",
              "    <div class=\"colab-df-container\">\n",
              "      <div>\n",
              "<style scoped>\n",
              "    .dataframe tbody tr th:only-of-type {\n",
              "        vertical-align: middle;\n",
              "    }\n",
              "\n",
              "    .dataframe tbody tr th {\n",
              "        vertical-align: top;\n",
              "    }\n",
              "\n",
              "    .dataframe thead th {\n",
              "        text-align: right;\n",
              "    }\n",
              "</style>\n",
              "<table border=\"1\" class=\"dataframe\">\n",
              "  <thead>\n",
              "    <tr style=\"text-align: right;\">\n",
              "      <th></th>\n",
              "      <th>STATE/UT</th>\n",
              "      <th>YEAR</th>\n",
              "      <th>JANUARY</th>\n",
              "      <th>FEBRUARY</th>\n",
              "      <th>MARCH</th>\n",
              "      <th>APRIL</th>\n",
              "      <th>MAY</th>\n",
              "      <th>JUNE</th>\n",
              "      <th>JULY</th>\n",
              "      <th>AUGUST</th>\n",
              "      <th>SEPTEMBER</th>\n",
              "      <th>OCTOBER</th>\n",
              "      <th>NOVEMBER</th>\n",
              "      <th>DECEMBER</th>\n",
              "      <th>Total</th>\n",
              "    </tr>\n",
              "  </thead>\n",
              "  <tbody>\n",
              "    <tr>\n",
              "      <th>0</th>\n",
              "      <td>A &amp; N Islands</td>\n",
              "      <td>2001</td>\n",
              "      <td>8</td>\n",
              "      <td>23</td>\n",
              "      <td>15</td>\n",
              "      <td>15</td>\n",
              "      <td>14</td>\n",
              "      <td>19</td>\n",
              "      <td>14</td>\n",
              "      <td>19</td>\n",
              "      <td>7</td>\n",
              "      <td>12</td>\n",
              "      <td>13</td>\n",
              "      <td>22</td>\n",
              "      <td>181</td>\n",
              "    </tr>\n",
              "    <tr>\n",
              "      <th>1</th>\n",
              "      <td>A &amp; N Islands</td>\n",
              "      <td>2002</td>\n",
              "      <td>12</td>\n",
              "      <td>10</td>\n",
              "      <td>14</td>\n",
              "      <td>16</td>\n",
              "      <td>10</td>\n",
              "      <td>7</td>\n",
              "      <td>16</td>\n",
              "      <td>11</td>\n",
              "      <td>23</td>\n",
              "      <td>21</td>\n",
              "      <td>11</td>\n",
              "      <td>17</td>\n",
              "      <td>168</td>\n",
              "    </tr>\n",
              "    <tr>\n",
              "      <th>2</th>\n",
              "      <td>A &amp; N Islands</td>\n",
              "      <td>2003</td>\n",
              "      <td>19</td>\n",
              "      <td>13</td>\n",
              "      <td>15</td>\n",
              "      <td>13</td>\n",
              "      <td>13</td>\n",
              "      <td>12</td>\n",
              "      <td>8</td>\n",
              "      <td>16</td>\n",
              "      <td>17</td>\n",
              "      <td>25</td>\n",
              "      <td>14</td>\n",
              "      <td>15</td>\n",
              "      <td>180</td>\n",
              "    </tr>\n",
              "    <tr>\n",
              "      <th>3</th>\n",
              "      <td>A &amp; N Islands</td>\n",
              "      <td>2004</td>\n",
              "      <td>21</td>\n",
              "      <td>14</td>\n",
              "      <td>22</td>\n",
              "      <td>17</td>\n",
              "      <td>13</td>\n",
              "      <td>18</td>\n",
              "      <td>16</td>\n",
              "      <td>19</td>\n",
              "      <td>16</td>\n",
              "      <td>20</td>\n",
              "      <td>15</td>\n",
              "      <td>24</td>\n",
              "      <td>215</td>\n",
              "    </tr>\n",
              "    <tr>\n",
              "      <th>4</th>\n",
              "      <td>A &amp; N Islands</td>\n",
              "      <td>2005</td>\n",
              "      <td>19</td>\n",
              "      <td>21</td>\n",
              "      <td>22</td>\n",
              "      <td>17</td>\n",
              "      <td>13</td>\n",
              "      <td>19</td>\n",
              "      <td>21</td>\n",
              "      <td>14</td>\n",
              "      <td>15</td>\n",
              "      <td>19</td>\n",
              "      <td>10</td>\n",
              "      <td>16</td>\n",
              "      <td>206</td>\n",
              "    </tr>\n",
              "    <tr>\n",
              "      <th>...</th>\n",
              "      <td>...</td>\n",
              "      <td>...</td>\n",
              "      <td>...</td>\n",
              "      <td>...</td>\n",
              "      <td>...</td>\n",
              "      <td>...</td>\n",
              "      <td>...</td>\n",
              "      <td>...</td>\n",
              "      <td>...</td>\n",
              "      <td>...</td>\n",
              "      <td>...</td>\n",
              "      <td>...</td>\n",
              "      <td>...</td>\n",
              "      <td>...</td>\n",
              "      <td>...</td>\n",
              "    </tr>\n",
              "    <tr>\n",
              "      <th>485</th>\n",
              "      <td>West Bengal</td>\n",
              "      <td>2010</td>\n",
              "      <td>1245</td>\n",
              "      <td>1150</td>\n",
              "      <td>1349</td>\n",
              "      <td>1246</td>\n",
              "      <td>1172</td>\n",
              "      <td>1284</td>\n",
              "      <td>1231</td>\n",
              "      <td>1190</td>\n",
              "      <td>1128</td>\n",
              "      <td>1227</td>\n",
              "      <td>1251</td>\n",
              "      <td>1252</td>\n",
              "      <td>14725</td>\n",
              "    </tr>\n",
              "    <tr>\n",
              "      <th>486</th>\n",
              "      <td>West Bengal</td>\n",
              "      <td>2011</td>\n",
              "      <td>1350</td>\n",
              "      <td>1179</td>\n",
              "      <td>1314</td>\n",
              "      <td>1148</td>\n",
              "      <td>1220</td>\n",
              "      <td>1241</td>\n",
              "      <td>1185</td>\n",
              "      <td>1074</td>\n",
              "      <td>1112</td>\n",
              "      <td>1214</td>\n",
              "      <td>1161</td>\n",
              "      <td>1270</td>\n",
              "      <td>14468</td>\n",
              "    </tr>\n",
              "    <tr>\n",
              "      <th>487</th>\n",
              "      <td>West Bengal</td>\n",
              "      <td>2012</td>\n",
              "      <td>1346</td>\n",
              "      <td>1383</td>\n",
              "      <td>1357</td>\n",
              "      <td>1270</td>\n",
              "      <td>1352</td>\n",
              "      <td>1434</td>\n",
              "      <td>1349</td>\n",
              "      <td>1204</td>\n",
              "      <td>1112</td>\n",
              "      <td>1251</td>\n",
              "      <td>1179</td>\n",
              "      <td>1371</td>\n",
              "      <td>15608</td>\n",
              "    </tr>\n",
              "    <tr>\n",
              "      <th>488</th>\n",
              "      <td>West Bengal</td>\n",
              "      <td>2013</td>\n",
              "      <td>1564</td>\n",
              "      <td>1382</td>\n",
              "      <td>1474</td>\n",
              "      <td>1392</td>\n",
              "      <td>1629</td>\n",
              "      <td>1391</td>\n",
              "      <td>1315</td>\n",
              "      <td>1208</td>\n",
              "      <td>1228</td>\n",
              "      <td>1299</td>\n",
              "      <td>1335</td>\n",
              "      <td>1332</td>\n",
              "      <td>16549</td>\n",
              "    </tr>\n",
              "    <tr>\n",
              "      <th>489</th>\n",
              "      <td>West Bengal</td>\n",
              "      <td>2014</td>\n",
              "      <td>1516</td>\n",
              "      <td>1398</td>\n",
              "      <td>1473</td>\n",
              "      <td>1385</td>\n",
              "      <td>1527</td>\n",
              "      <td>1439</td>\n",
              "      <td>1416</td>\n",
              "      <td>1356</td>\n",
              "      <td>1391</td>\n",
              "      <td>1395</td>\n",
              "      <td>1415</td>\n",
              "      <td>1394</td>\n",
              "      <td>17105</td>\n",
              "    </tr>\n",
              "  </tbody>\n",
              "</table>\n",
              "<p>490 rows × 15 columns</p>\n",
              "</div>\n",
              "      <button class=\"colab-df-convert\" onclick=\"convertToInteractive('df-226a6fd1-0803-4107-ab69-dd74c04f6070')\"\n",
              "              title=\"Convert this dataframe to an interactive table.\"\n",
              "              style=\"display:none;\">\n",
              "        \n",
              "  <svg xmlns=\"http://www.w3.org/2000/svg\" height=\"24px\"viewBox=\"0 0 24 24\"\n",
              "       width=\"24px\">\n",
              "    <path d=\"M0 0h24v24H0V0z\" fill=\"none\"/>\n",
              "    <path d=\"M18.56 5.44l.94 2.06.94-2.06 2.06-.94-2.06-.94-.94-2.06-.94 2.06-2.06.94zm-11 1L8.5 8.5l.94-2.06 2.06-.94-2.06-.94L8.5 2.5l-.94 2.06-2.06.94zm10 10l.94 2.06.94-2.06 2.06-.94-2.06-.94-.94-2.06-.94 2.06-2.06.94z\"/><path d=\"M17.41 7.96l-1.37-1.37c-.4-.4-.92-.59-1.43-.59-.52 0-1.04.2-1.43.59L10.3 9.45l-7.72 7.72c-.78.78-.78 2.05 0 2.83L4 21.41c.39.39.9.59 1.41.59.51 0 1.02-.2 1.41-.59l7.78-7.78 2.81-2.81c.8-.78.8-2.07 0-2.86zM5.41 20L4 18.59l7.72-7.72 1.47 1.35L5.41 20z\"/>\n",
              "  </svg>\n",
              "      </button>\n",
              "      \n",
              "  <style>\n",
              "    .colab-df-container {\n",
              "      display:flex;\n",
              "      flex-wrap:wrap;\n",
              "      gap: 12px;\n",
              "    }\n",
              "\n",
              "    .colab-df-convert {\n",
              "      background-color: #E8F0FE;\n",
              "      border: none;\n",
              "      border-radius: 50%;\n",
              "      cursor: pointer;\n",
              "      display: none;\n",
              "      fill: #1967D2;\n",
              "      height: 32px;\n",
              "      padding: 0 0 0 0;\n",
              "      width: 32px;\n",
              "    }\n",
              "\n",
              "    .colab-df-convert:hover {\n",
              "      background-color: #E2EBFA;\n",
              "      box-shadow: 0px 1px 2px rgba(60, 64, 67, 0.3), 0px 1px 3px 1px rgba(60, 64, 67, 0.15);\n",
              "      fill: #174EA6;\n",
              "    }\n",
              "\n",
              "    [theme=dark] .colab-df-convert {\n",
              "      background-color: #3B4455;\n",
              "      fill: #D2E3FC;\n",
              "    }\n",
              "\n",
              "    [theme=dark] .colab-df-convert:hover {\n",
              "      background-color: #434B5C;\n",
              "      box-shadow: 0px 1px 3px 1px rgba(0, 0, 0, 0.15);\n",
              "      filter: drop-shadow(0px 1px 2px rgba(0, 0, 0, 0.3));\n",
              "      fill: #FFFFFF;\n",
              "    }\n",
              "  </style>\n",
              "\n",
              "      <script>\n",
              "        const buttonEl =\n",
              "          document.querySelector('#df-226a6fd1-0803-4107-ab69-dd74c04f6070 button.colab-df-convert');\n",
              "        buttonEl.style.display =\n",
              "          google.colab.kernel.accessAllowed ? 'block' : 'none';\n",
              "\n",
              "        async function convertToInteractive(key) {\n",
              "          const element = document.querySelector('#df-226a6fd1-0803-4107-ab69-dd74c04f6070');\n",
              "          const dataTable =\n",
              "            await google.colab.kernel.invokeFunction('convertToInteractive',\n",
              "                                                     [key], {});\n",
              "          if (!dataTable) return;\n",
              "\n",
              "          const docLinkHtml = 'Like what you see? Visit the ' +\n",
              "            '<a target=\"_blank\" href=https://colab.research.google.com/notebooks/data_table.ipynb>data table notebook</a>'\n",
              "            + ' to learn more about interactive tables.';\n",
              "          element.innerHTML = '';\n",
              "          dataTable['output_type'] = 'display_data';\n",
              "          await google.colab.output.renderOutput(dataTable, element);\n",
              "          const docLink = document.createElement('div');\n",
              "          docLink.innerHTML = docLinkHtml;\n",
              "          element.appendChild(docLink);\n",
              "        }\n",
              "      </script>\n",
              "    </div>\n",
              "  </div>\n",
              "  "
            ]
          },
          "metadata": {},
          "execution_count": 14
        }
      ]
    },
    {
      "cell_type": "code",
      "source": [
        "# 3.\tFind the average monthly accidents for each state.\n",
        "monthly_accidents = df.groupby(['STATE/UT'])['JANUARY','FEBRUARY','MARCH','APRIL', 'MAY']\n",
        "print(monthly_accidents)"
      ],
      "metadata": {
        "colab": {
          "base_uri": "https://localhost:8080/"
        },
        "id": "tD8EEd5_J7Ri",
        "outputId": "b477c7d0-c543-41e8-9244-31bee183b28f"
      },
      "execution_count": 6,
      "outputs": [
        {
          "output_type": "stream",
          "name": "stdout",
          "text": [
            "<pandas.core.groupby.generic.DataFrameGroupBy object at 0x7fde2faaad90>\n"
          ]
        },
        {
          "output_type": "stream",
          "name": "stderr",
          "text": [
            "/usr/local/lib/python3.7/dist-packages/ipykernel_launcher.py:2: FutureWarning: Indexing with multiple keys (implicitly converted to a tuple of keys) will be deprecated, use a list instead.\n",
            "  \n"
          ]
        }
      ]
    },
    {
      "cell_type": "code",
      "source": [
        "#4.\tWhich month has highest accidents?\n",
        "print (df.iloc[:,2:-1].sum().idxmax())"
      ],
      "metadata": {
        "colab": {
          "base_uri": "https://localhost:8080/"
        },
        "id": "hgO5CUvPJ7KS",
        "outputId": "6a1343dc-2b6d-4997-c79f-edf52537830b"
      },
      "execution_count": 7,
      "outputs": [
        {
          "output_type": "stream",
          "name": "stdout",
          "text": [
            "MAY\n"
          ]
        }
      ]
    },
    {
      "cell_type": "code",
      "source": [
        "# 5.\tWhich time slot (like 0-3, 3-6 etc) has more accidents?\n",
        "print (df_time.iloc[:,2:].sum().idxmax())"
      ],
      "metadata": {
        "colab": {
          "base_uri": "https://localhost:8080/"
        },
        "id": "RULmERXWQSij",
        "outputId": "3c02c3a5-1ebd-4c79-8cfc-9d2b04da162c"
      },
      "execution_count": 11,
      "outputs": [
        {
          "output_type": "stream",
          "name": "stdout",
          "text": [
            "15-18 hrs (Day)\n"
          ]
        }
      ]
    },
    {
      "cell_type": "code",
      "source": [
        "#5a. Time slots with more accidents in state 'Karnataka'\n",
        "print (df_time[df_time['STATE/UT'] == 'Karnataka'].iloc[:,2:].sum().idxmax())"
      ],
      "metadata": {
        "colab": {
          "base_uri": "https://localhost:8080/"
        },
        "id": "3HD2CgtdQm-A",
        "outputId": "84163f20-cc13-40e1-9ce1-e86cdb5f23c4"
      },
      "execution_count": 12,
      "outputs": [
        {
          "output_type": "stream",
          "name": "stdout",
          "text": [
            "15-18 hrs (Day)\n"
          ]
        }
      ]
    },
    {
      "cell_type": "code",
      "source": [
        "# 6.\tWhich state has more accidents from year 2001 to 2014?\n",
        "print (df[df['YEAR'] <= 2014].groupby(['STATE/UT'])['Total'].sum().idxmax())\n"
      ],
      "metadata": {
        "colab": {
          "base_uri": "https://localhost:8080/"
        },
        "id": "nixAQzU9SGOy",
        "outputId": "cd3cc81c-bc80-4ea1-823b-dc32e44f12e1"
      },
      "execution_count": 15,
      "outputs": [
        {
          "output_type": "stream",
          "name": "stdout",
          "text": [
            "Tamil Nadu\n"
          ]
        }
      ]
    },
    {
      "cell_type": "code",
      "source": [
        "# 7.  List states whose accidents number in year 2014 is less than \n",
        "#     state average from 2001 to 2014.\n",
        "state_avg = df.groupby(['STATE/UT'])['Total'].mean()\n",
        "df_2014 = df[df['YEAR'] == 2014][['STATE/UT','Total']]\n",
        "df_2014.index = df_2014['STATE/UT']\n",
        "del df_2014['STATE/UT']\n",
        "df_2014 = df_2014.squeeze()\n",
        "state_avg.drop(['D & N Haveli','Delhi (Ut)'], inplace=True)"
      ],
      "metadata": {
        "id": "050A_QbWSTGo"
      },
      "execution_count": 16,
      "outputs": []
    },
    {
      "cell_type": "code",
      "source": [
        "print (df_2014[state_avg > df_2014].index)"
      ],
      "metadata": {
        "colab": {
          "base_uri": "https://localhost:8080/"
        },
        "id": "izbsyLioSY33",
        "outputId": "d22cf3f6-e4e0-403d-e7c4-3046e42c1b91"
      },
      "execution_count": 17,
      "outputs": [
        {
          "output_type": "stream",
          "name": "stdout",
          "text": [
            "Index(['Arunachal Pradesh', 'Chandigarh', 'Daman & Diu', 'Jammu & Kashmir',\n",
            "       'Kerala', 'Maharashtra', 'Nagaland', 'Puducherry', 'Sikkim', 'Tripura',\n",
            "       'Uttarakhand'],\n",
            "      dtype='object', name='STATE/UT')\n"
          ]
        }
      ]
    },
    {
      "cell_type": "code",
      "source": [
        "# 8.\tWhich month has more accidents over the year?\n",
        "print (df.iloc[:,2:-1].mean().idxmax())"
      ],
      "metadata": {
        "colab": {
          "base_uri": "https://localhost:8080/"
        },
        "id": "uI_PwPGaScGz",
        "outputId": "1b47d454-0642-46cb-9c91-79b21eb284c3"
      },
      "execution_count": 18,
      "outputs": [
        {
          "output_type": "stream",
          "name": "stdout",
          "text": [
            "MAY\n"
          ]
        }
      ]
    }
  ]
}