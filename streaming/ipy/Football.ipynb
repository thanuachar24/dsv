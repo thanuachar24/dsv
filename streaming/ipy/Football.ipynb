{
  "nbformat": 4,
  "nbformat_minor": 0,
  "metadata": {
    "colab": {
      "name": "Football.ipynb",
      "provenance": []
    },
    "kernelspec": {
      "name": "python3",
      "display_name": "Python 3"
    },
    "language_info": {
      "name": "python"
    }
  },
  "cells": [
    {
      "cell_type": "code",
      "execution_count": 1,
      "metadata": {
        "id": "ZdHjSANeBdrE"
      },
      "outputs": [],
      "source": [
        "import pandas as pd\n",
        "from pandas import DataFrame"
      ]
    },
    {
      "cell_type": "code",
      "source": [
        "df = pd.read_csv ('Football_Euro.csv')"
      ],
      "metadata": {
        "id": "sn60Qv6rBwUY"
      },
      "execution_count": 2,
      "outputs": []
    },
    {
      "cell_type": "code",
      "source": [
        "print(df['Goals'])"
      ],
      "metadata": {
        "colab": {
          "base_uri": "https://localhost:8080/"
        },
        "id": "9JDurBqhB83e",
        "outputId": "2eedba04-2d43-4d49-d296-65fbbd8d1214"
      },
      "execution_count": 3,
      "outputs": [
        {
          "output_type": "stream",
          "name": "stdout",
          "text": [
            "0      4\n",
            "1      4\n",
            "2      4\n",
            "3      5\n",
            "4      3\n",
            "5     10\n",
            "6      5\n",
            "7      6\n",
            "8      2\n",
            "9      2\n",
            "10     6\n",
            "11     1\n",
            "12     5\n",
            "13    12\n",
            "14     5\n",
            "15     2\n",
            "Name: Goals, dtype: int64\n"
          ]
        }
      ]
    },
    {
      "cell_type": "code",
      "source": [
        "df.shape"
      ],
      "metadata": {
        "colab": {
          "base_uri": "https://localhost:8080/"
        },
        "id": "XRdxEIz2CQkj",
        "outputId": "f0212ac3-debb-48de-f6d3-d2f144d39637"
      },
      "execution_count": 5,
      "outputs": [
        {
          "output_type": "execute_result",
          "data": {
            "text/plain": [
              "(16, 35)"
            ]
          },
          "metadata": {},
          "execution_count": 5
        }
      ]
    },
    {
      "cell_type": "code",
      "source": [
        "#3. How many team participated in the Euro Cup?\n",
        "print(\"No of teams Participated in the Eurocup: \",df.shape[0])"
      ],
      "metadata": {
        "colab": {
          "base_uri": "https://localhost:8080/"
        },
        "id": "uExti9SjB-wu",
        "outputId": "2bd247bc-9cf2-4121-e787-66d30f069190"
      },
      "execution_count": 4,
      "outputs": [
        {
          "output_type": "stream",
          "name": "stdout",
          "text": [
            "No of teams Participated in the Eurocup:  16\n"
          ]
        }
      ]
    },
    {
      "cell_type": "code",
      "source": [
        "#4. Columns\n",
        "df.shape[1]"
      ],
      "metadata": {
        "colab": {
          "base_uri": "https://localhost:8080/"
        },
        "id": "xEJB9WfeCf0J",
        "outputId": "aeba4a57-54d4-4aaa-bcce-0f684586c2e1"
      },
      "execution_count": 6,
      "outputs": [
        {
          "output_type": "execute_result",
          "data": {
            "text/plain": [
              "35"
            ]
          },
          "metadata": {},
          "execution_count": 6
        }
      ]
    },
    {
      "cell_type": "code",
      "source": [
        "#5. View only the columns Team, Yellow Cards and Red Cards and assign them to a dataframe called discipline. \n",
        "discipline = df[['Team', 'Yellow Cards', 'Red Cards']]\n",
        "print (discipline)"
      ],
      "metadata": {
        "colab": {
          "base_uri": "https://localhost:8080/"
        },
        "id": "U8vZ0hrkCmcf",
        "outputId": "cb6fab75-a37b-47f2-ff89-091412b043b4"
      },
      "execution_count": 7,
      "outputs": [
        {
          "output_type": "stream",
          "name": "stdout",
          "text": [
            "                   Team  Yellow Cards  Red Cards\n",
            "0               Croatia             9          0\n",
            "1        Czech Republic             7          0\n",
            "2               Denmark             4          0\n",
            "3               England             5          0\n",
            "4                France             6          0\n",
            "5               Germany             4          0\n",
            "6                Greece             9          1\n",
            "7                 Italy            16          0\n",
            "8           Netherlands             5          0\n",
            "9                Poland             7          1\n",
            "10             Portugal            12          0\n",
            "11  Republic of Ireland             6          1\n",
            "12               Russia             6          0\n",
            "13                Spain            11          0\n",
            "14               Sweden             7          0\n",
            "15              Ukraine             5          0\n"
          ]
        }
      ]
    },
    {
      "cell_type": "code",
      "source": [
        "#6. Sort the teams by Red Cards, then to Yellow Cards. \n",
        "discipline.sort_values(by=['Red Cards', 'Yellow Cards'], inplace = True)\n",
        "print (discipline)"
      ],
      "metadata": {
        "colab": {
          "base_uri": "https://localhost:8080/"
        },
        "id": "FlsmF_OVC0vv",
        "outputId": "926f750d-c50c-47ce-cbf2-0d767854fa77"
      },
      "execution_count": 8,
      "outputs": [
        {
          "output_type": "stream",
          "name": "stdout",
          "text": [
            "                   Team  Yellow Cards  Red Cards\n",
            "2               Denmark             4          0\n",
            "5               Germany             4          0\n",
            "3               England             5          0\n",
            "8           Netherlands             5          0\n",
            "15              Ukraine             5          0\n",
            "4                France             6          0\n",
            "12               Russia             6          0\n",
            "1        Czech Republic             7          0\n",
            "14               Sweden             7          0\n",
            "0               Croatia             9          0\n",
            "13                Spain            11          0\n",
            "10             Portugal            12          0\n",
            "7                 Italy            16          0\n",
            "11  Republic of Ireland             6          1\n",
            "9                Poland             7          1\n",
            "6                Greece             9          1\n"
          ]
        },
        {
          "output_type": "stream",
          "name": "stderr",
          "text": [
            "/usr/local/lib/python3.7/dist-packages/pandas/util/_decorators.py:311: SettingWithCopyWarning: \n",
            "A value is trying to be set on a copy of a slice from a DataFrame\n",
            "\n",
            "See the caveats in the documentation: https://pandas.pydata.org/pandas-docs/stable/user_guide/indexing.html#returning-a-view-versus-a-copy\n",
            "  return func(*args, **kwargs)\n"
          ]
        }
      ]
    },
    {
      "cell_type": "code",
      "source": [
        "#7. Calculate the mean Yellow Cards given per Team. \n",
        "print(\"Mean yellow cards: \",discipline['Yellow Cards'].mean())"
      ],
      "metadata": {
        "colab": {
          "base_uri": "https://localhost:8080/"
        },
        "id": "FIoSWtCRDMth",
        "outputId": "cc411473-7eab-4237-ffe9-f368cf6688a9"
      },
      "execution_count": 9,
      "outputs": [
        {
          "output_type": "stream",
          "name": "stdout",
          "text": [
            "Mean yellow cards:  7.4375\n"
          ]
        }
      ]
    },
    {
      "cell_type": "code",
      "source": [
        ""
      ],
      "metadata": {
        "id": "ZNcNI7DFDQse"
      },
      "execution_count": null,
      "outputs": []
    },
    {
      "cell_type": "code",
      "source": [
        "#9. List teams that scored more than 6 goals. \n",
        "print(\"\\n\\nTeams with more than 6 Goals:\\n\",df[df['Goals'] > 6])\n"
      ],
      "metadata": {
        "colab": {
          "base_uri": "https://localhost:8080/"
        },
        "id": "z_U7vppYD3kw",
        "outputId": "22d577b6-3a8b-4576-9c99-c071c8192fb4"
      },
      "execution_count": 10,
      "outputs": [
        {
          "output_type": "stream",
          "name": "stdout",
          "text": [
            "\n",
            "\n",
            "Teams with more than 6 Goals:\n",
            "        Team  Goals  Shots on target  Shots off target Shooting Accuracy  \\\n",
            "5   Germany     10               32                32            47.80%   \n",
            "13    Spain     12               42                33            55.90%   \n",
            "\n",
            "   % Goals-to-shots  Total shots (inc. Blocked)  Hit Woodwork  Penalty goals  \\\n",
            "5            15.60%                          80             2              1   \n",
            "13           16.00%                         100             0              1   \n",
            "\n",
            "    Penalties not scored  ...  Saves made  Saves-to-shots ratio  Fouls Won  \\\n",
            "5                      0  ...          10                62.60%         63   \n",
            "13                     0  ...          15                93.80%        102   \n",
            "\n",
            "   Fouls Conceded  Offsides  Yellow Cards  Red Cards  Subs on  Subs off  \\\n",
            "5              49        12             4          0       15        15   \n",
            "13             83        19            11          0       17        17   \n",
            "\n",
            "    Players Used  \n",
            "5             17  \n",
            "13            18  \n",
            "\n",
            "[2 rows x 35 columns]\n"
          ]
        }
      ]
    },
    {
      "cell_type": "code",
      "source": [
        "#10. Select the teams that start with G.  \n",
        "print(\"\\n\\nTeams Starting with G:\\n\",df[df.Team.str.startswith('G')])\n"
      ],
      "metadata": {
        "colab": {
          "base_uri": "https://localhost:8080/"
        },
        "id": "VkuHZjLaD_lK",
        "outputId": "10dfdb47-ede3-4e4d-d48d-8ba11763532a"
      },
      "execution_count": 11,
      "outputs": [
        {
          "output_type": "stream",
          "name": "stdout",
          "text": [
            "\n",
            "\n",
            "Teams Starting with G:\n",
            "       Team  Goals  Shots on target  Shots off target Shooting Accuracy  \\\n",
            "5  Germany     10               32                32            47.80%   \n",
            "6   Greece      5                8                18            30.70%   \n",
            "\n",
            "  % Goals-to-shots  Total shots (inc. Blocked)  Hit Woodwork  Penalty goals  \\\n",
            "5           15.60%                          80             2              1   \n",
            "6           19.20%                          32             1              1   \n",
            "\n",
            "   Penalties not scored  ...  Saves made  Saves-to-shots ratio  Fouls Won  \\\n",
            "5                     0  ...          10                62.60%         63   \n",
            "6                     1  ...          13                65.10%         67   \n",
            "\n",
            "  Fouls Conceded  Offsides  Yellow Cards  Red Cards  Subs on  Subs off  \\\n",
            "5             49        12             4          0       15        15   \n",
            "6             48        12             9          1       12        12   \n",
            "\n",
            "   Players Used  \n",
            "5            17  \n",
            "6            20  \n",
            "\n",
            "[2 rows x 35 columns]\n"
          ]
        }
      ]
    },
    {
      "cell_type": "code",
      "source": [
        "#11. Select the first 7 columns.  \n",
        "print(df.head(7))"
      ],
      "metadata": {
        "colab": {
          "base_uri": "https://localhost:8080/"
        },
        "id": "kOu4QXAqEB9h",
        "outputId": "0c9dd69e-90e4-4921-8668-2ecd7adf9635"
      },
      "execution_count": 12,
      "outputs": [
        {
          "output_type": "stream",
          "name": "stdout",
          "text": [
            "             Team  Goals  Shots on target  Shots off target Shooting Accuracy  \\\n",
            "0         Croatia      4               13                12            51.90%   \n",
            "1  Czech Republic      4               13                18            41.90%   \n",
            "2         Denmark      4               10                10            50.00%   \n",
            "3         England      5               11                18            50.00%   \n",
            "4          France      3               22                24            37.90%   \n",
            "5         Germany     10               32                32            47.80%   \n",
            "6          Greece      5                8                18            30.70%   \n",
            "\n",
            "  % Goals-to-shots  Total shots (inc. Blocked)  Hit Woodwork  Penalty goals  \\\n",
            "0           16.00%                          32             0              0   \n",
            "1           12.90%                          39             0              0   \n",
            "2           20.00%                          27             1              0   \n",
            "3           17.20%                          40             0              0   \n",
            "4            6.50%                          65             1              0   \n",
            "5           15.60%                          80             2              1   \n",
            "6           19.20%                          32             1              1   \n",
            "\n",
            "   Penalties not scored  ...  Saves made  Saves-to-shots ratio  Fouls Won  \\\n",
            "0                     0  ...          13                81.30%         41   \n",
            "1                     0  ...           9                60.10%         53   \n",
            "2                     0  ...          10                66.70%         25   \n",
            "3                     0  ...          22                88.10%         43   \n",
            "4                     0  ...           6                54.60%         36   \n",
            "5                     0  ...          10                62.60%         63   \n",
            "6                     1  ...          13                65.10%         67   \n",
            "\n",
            "  Fouls Conceded  Offsides  Yellow Cards  Red Cards  Subs on  Subs off  \\\n",
            "0             62         2             9          0        9         9   \n",
            "1             73         8             7          0       11        11   \n",
            "2             38         8             4          0        7         7   \n",
            "3             45         6             5          0       11        11   \n",
            "4             51         5             6          0       11        11   \n",
            "5             49        12             4          0       15        15   \n",
            "6             48        12             9          1       12        12   \n",
            "\n",
            "   Players Used  \n",
            "0            16  \n",
            "1            19  \n",
            "2            15  \n",
            "3            16  \n",
            "4            19  \n",
            "5            17  \n",
            "6            20  \n",
            "\n",
            "[7 rows x 35 columns]\n"
          ]
        }
      ]
    },
    {
      "cell_type": "code",
      "source": [
        "#12. Select all columns except the last 3.  \n",
        "print(df.iloc[:,:-3])"
      ],
      "metadata": {
        "colab": {
          "base_uri": "https://localhost:8080/"
        },
        "id": "avHNaHi7EK-t",
        "outputId": "7d4f8207-74e9-4e07-bca3-ad9b38be7fef"
      },
      "execution_count": 13,
      "outputs": [
        {
          "output_type": "stream",
          "name": "stdout",
          "text": [
            "                   Team  Goals  Shots on target  Shots off target  \\\n",
            "0               Croatia      4               13                12   \n",
            "1        Czech Republic      4               13                18   \n",
            "2               Denmark      4               10                10   \n",
            "3               England      5               11                18   \n",
            "4                France      3               22                24   \n",
            "5               Germany     10               32                32   \n",
            "6                Greece      5                8                18   \n",
            "7                 Italy      6               34                45   \n",
            "8           Netherlands      2               12                36   \n",
            "9                Poland      2               15                23   \n",
            "10             Portugal      6               22                42   \n",
            "11  Republic of Ireland      1                7                12   \n",
            "12               Russia      5                9                31   \n",
            "13                Spain     12               42                33   \n",
            "14               Sweden      5               17                19   \n",
            "15              Ukraine      2                7                26   \n",
            "\n",
            "   Shooting Accuracy % Goals-to-shots  Total shots (inc. Blocked)  \\\n",
            "0             51.90%           16.00%                          32   \n",
            "1             41.90%           12.90%                          39   \n",
            "2             50.00%           20.00%                          27   \n",
            "3             50.00%           17.20%                          40   \n",
            "4             37.90%            6.50%                          65   \n",
            "5             47.80%           15.60%                          80   \n",
            "6             30.70%           19.20%                          32   \n",
            "7             43.00%            7.50%                         110   \n",
            "8             25.00%            4.10%                          60   \n",
            "9             39.40%            5.20%                          48   \n",
            "10            34.30%            9.30%                          82   \n",
            "11            36.80%            5.20%                          28   \n",
            "12            22.50%           12.50%                          59   \n",
            "13            55.90%           16.00%                         100   \n",
            "14            47.20%           13.80%                          39   \n",
            "15            21.20%            6.00%                          38   \n",
            "\n",
            "    Hit Woodwork  Penalty goals  Penalties not scored  ...  Clean Sheets  \\\n",
            "0              0              0                     0  ...             0   \n",
            "1              0              0                     0  ...             1   \n",
            "2              1              0                     0  ...             1   \n",
            "3              0              0                     0  ...             2   \n",
            "4              1              0                     0  ...             1   \n",
            "5              2              1                     0  ...             1   \n",
            "6              1              1                     1  ...             1   \n",
            "7              2              0                     0  ...             2   \n",
            "8              2              0                     0  ...             0   \n",
            "9              0              0                     0  ...             0   \n",
            "10             6              0                     0  ...             2   \n",
            "11             0              0                     0  ...             0   \n",
            "12             2              0                     0  ...             0   \n",
            "13             0              1                     0  ...             5   \n",
            "14             3              0                     0  ...             1   \n",
            "15             0              0                     0  ...             0   \n",
            "\n",
            "    Blocks  Goals conceded Saves made  Saves-to-shots ratio  Fouls Won  \\\n",
            "0       10               3         13                81.30%         41   \n",
            "1       10               6          9                60.10%         53   \n",
            "2       10               5         10                66.70%         25   \n",
            "3       29               3         22                88.10%         43   \n",
            "4        7               5          6                54.60%         36   \n",
            "5       11               6         10                62.60%         63   \n",
            "6       23               7         13                65.10%         67   \n",
            "7       18               7         20                74.10%        101   \n",
            "8        9               5         12                70.60%         35   \n",
            "9        8               3          6                66.70%         48   \n",
            "10      11               4         10                71.50%         73   \n",
            "11      23               9         17                65.40%         43   \n",
            "12       8               3         10                77.00%         34   \n",
            "13       8               1         15                93.80%        102   \n",
            "14      12               5          8                61.60%         35   \n",
            "15       4               4         13                76.50%         48   \n",
            "\n",
            "    Fouls Conceded  Offsides  Yellow Cards  Red Cards  \n",
            "0               62         2             9          0  \n",
            "1               73         8             7          0  \n",
            "2               38         8             4          0  \n",
            "3               45         6             5          0  \n",
            "4               51         5             6          0  \n",
            "5               49        12             4          0  \n",
            "6               48        12             9          1  \n",
            "7               89        16            16          0  \n",
            "8               30         3             5          0  \n",
            "9               56         3             7          1  \n",
            "10              90        10            12          0  \n",
            "11              51        11             6          1  \n",
            "12              43         4             6          0  \n",
            "13              83        19            11          0  \n",
            "14              51         7             7          0  \n",
            "15              31         4             5          0  \n",
            "\n",
            "[16 rows x 32 columns]\n"
          ]
        }
      ]
    },
    {
      "cell_type": "code",
      "source": [
        "#13. Present only the Shooting Accuracy from England, Italy and Russia \n",
        "print(df.loc[df.Team.isin(['England', 'Italy', 'Russia']), ['Team','Shooting Accuracy']])\n"
      ],
      "metadata": {
        "colab": {
          "base_uri": "https://localhost:8080/"
        },
        "id": "zYJHN8XmESFJ",
        "outputId": "9d6bd435-97b9-4cc7-81d0-a3b50a419eac"
      },
      "execution_count": 14,
      "outputs": [
        {
          "output_type": "stream",
          "name": "stdout",
          "text": [
            "       Team Shooting Accuracy\n",
            "3   England            50.00%\n",
            "7     Italy            43.00%\n",
            "12   Russia            22.50%\n"
          ]
        }
      ]
    },
    {
      "cell_type": "code",
      "source": [
        "#14. Which country is good at defense? (more interceptions)\n",
        "print(df.iloc[df['Interceptions'].idxmax()]) "
      ],
      "metadata": {
        "colab": {
          "base_uri": "https://localhost:8080/"
        },
        "id": "0cTELszSEsnG",
        "outputId": "6002f5b3-b45d-47b9-d835-3f3f0bfd4ed2"
      },
      "execution_count": 15,
      "outputs": [
        {
          "output_type": "stream",
          "name": "stdout",
          "text": [
            "Team                           Italy\n",
            "Goals                              6\n",
            "Shots on target                   34\n",
            "Shots off target                  45\n",
            "Shooting Accuracy             43.00%\n",
            "% Goals-to-shots               7.50%\n",
            "Total shots (inc. Blocked)       110\n",
            "Hit Woodwork                       2\n",
            "Penalty goals                      0\n",
            "Penalties not scored               0\n",
            "Headed goals                       2\n",
            "Passes                          3016\n",
            "Passes completed                2531\n",
            "Passing Accuracy              83.90%\n",
            "Touches                         4363\n",
            "Crosses                           75\n",
            "Dribbles                          75\n",
            "Corners Taken                     30\n",
            "Tackles                           98\n",
            "Clearances                       137\n",
            "Interceptions                    136\n",
            "Clearances off line              1.0\n",
            "Clean Sheets                       2\n",
            "Blocks                            18\n",
            "Goals conceded                     7\n",
            "Saves made                        20\n",
            "Saves-to-shots ratio          74.10%\n",
            "Fouls Won                        101\n",
            "Fouls Conceded                    89\n",
            "Offsides                          16\n",
            "Yellow Cards                      16\n",
            "Red Cards                          0\n",
            "Subs on                           18\n",
            "Subs off                          18\n",
            "Players Used                      19\n",
            "Name: 7, dtype: object\n"
          ]
        }
      ]
    },
    {
      "cell_type": "code",
      "source": [
        "#14. Which country is worst at defense? (more interceptions)\n",
        "print(df.iloc[df['Interceptions'].idxmin()]) "
      ],
      "metadata": {
        "colab": {
          "base_uri": "https://localhost:8080/"
        },
        "id": "a0vQzSIgEvWd",
        "outputId": "34e58e4a-6888-4b7a-888f-9757c4c6627e"
      },
      "execution_count": 16,
      "outputs": [
        {
          "output_type": "stream",
          "name": "stdout",
          "text": [
            "Team                          Ukraine\n",
            "Goals                               2\n",
            "Shots on target                     7\n",
            "Shots off target                   26\n",
            "Shooting Accuracy              21.20%\n",
            "% Goals-to-shots                6.00%\n",
            "Total shots (inc. Blocked)         38\n",
            "Hit Woodwork                        0\n",
            "Penalty goals                       0\n",
            "Penalties not scored                0\n",
            "Headed goals                        2\n",
            "Passes                           1276\n",
            "Passes completed                 1043\n",
            "Passing Accuracy               81.70%\n",
            "Touches                          1894\n",
            "Crosses                            33\n",
            "Dribbles                           26\n",
            "Corners Taken                      18\n",
            "Tackles                            65\n",
            "Clearances                         97\n",
            "Interceptions                      29\n",
            "Clearances off line               0.0\n",
            "Clean Sheets                        0\n",
            "Blocks                              4\n",
            "Goals conceded                      4\n",
            "Saves made                         13\n",
            "Saves-to-shots ratio           76.50%\n",
            "Fouls Won                          48\n",
            "Fouls Conceded                     31\n",
            "Offsides                            4\n",
            "Yellow Cards                        5\n",
            "Red Cards                           0\n",
            "Subs on                             9\n",
            "Subs off                            9\n",
            "Players Used                       18\n",
            "Name: 15, dtype: object\n"
          ]
        }
      ]
    },
    {
      "cell_type": "code",
      "source": [
        "#15. Which country played more attacking game?\n",
        "#max(df.iloc['Tackles'])\n",
        "df[df.Tackles == df.Tackles.max()]"
      ],
      "metadata": {
        "colab": {
          "base_uri": "https://localhost:8080/",
          "height": 226
        },
        "id": "tqvvn09mFhBa",
        "outputId": "dd71b099-3227-42a9-f942-951558ee3c82"
      },
      "execution_count": 24,
      "outputs": [
        {
          "output_type": "execute_result",
          "data": {
            "text/plain": [
              "     Team  Goals  Shots on target  Shots off target Shooting Accuracy  \\\n",
              "13  Spain     12               42                33            55.90%   \n",
              "\n",
              "   % Goals-to-shots  Total shots (inc. Blocked)  Hit Woodwork  Penalty goals  \\\n",
              "13           16.00%                         100             0              1   \n",
              "\n",
              "    Penalties not scored  ...  Saves made  Saves-to-shots ratio  Fouls Won  \\\n",
              "13                     0  ...          15                93.80%        102   \n",
              "\n",
              "   Fouls Conceded  Offsides  Yellow Cards  Red Cards  Subs on  Subs off  \\\n",
              "13             83        19            11          0       17        17   \n",
              "\n",
              "    Players Used  \n",
              "13            18  \n",
              "\n",
              "[1 rows x 35 columns]"
            ],
            "text/html": [
              "\n",
              "  <div id=\"df-8dafaac6-5959-4c47-be99-1a2e52255575\">\n",
              "    <div class=\"colab-df-container\">\n",
              "      <div>\n",
              "<style scoped>\n",
              "    .dataframe tbody tr th:only-of-type {\n",
              "        vertical-align: middle;\n",
              "    }\n",
              "\n",
              "    .dataframe tbody tr th {\n",
              "        vertical-align: top;\n",
              "    }\n",
              "\n",
              "    .dataframe thead th {\n",
              "        text-align: right;\n",
              "    }\n",
              "</style>\n",
              "<table border=\"1\" class=\"dataframe\">\n",
              "  <thead>\n",
              "    <tr style=\"text-align: right;\">\n",
              "      <th></th>\n",
              "      <th>Team</th>\n",
              "      <th>Goals</th>\n",
              "      <th>Shots on target</th>\n",
              "      <th>Shots off target</th>\n",
              "      <th>Shooting Accuracy</th>\n",
              "      <th>% Goals-to-shots</th>\n",
              "      <th>Total shots (inc. Blocked)</th>\n",
              "      <th>Hit Woodwork</th>\n",
              "      <th>Penalty goals</th>\n",
              "      <th>Penalties not scored</th>\n",
              "      <th>...</th>\n",
              "      <th>Saves made</th>\n",
              "      <th>Saves-to-shots ratio</th>\n",
              "      <th>Fouls Won</th>\n",
              "      <th>Fouls Conceded</th>\n",
              "      <th>Offsides</th>\n",
              "      <th>Yellow Cards</th>\n",
              "      <th>Red Cards</th>\n",
              "      <th>Subs on</th>\n",
              "      <th>Subs off</th>\n",
              "      <th>Players Used</th>\n",
              "    </tr>\n",
              "  </thead>\n",
              "  <tbody>\n",
              "    <tr>\n",
              "      <th>13</th>\n",
              "      <td>Spain</td>\n",
              "      <td>12</td>\n",
              "      <td>42</td>\n",
              "      <td>33</td>\n",
              "      <td>55.90%</td>\n",
              "      <td>16.00%</td>\n",
              "      <td>100</td>\n",
              "      <td>0</td>\n",
              "      <td>1</td>\n",
              "      <td>0</td>\n",
              "      <td>...</td>\n",
              "      <td>15</td>\n",
              "      <td>93.80%</td>\n",
              "      <td>102</td>\n",
              "      <td>83</td>\n",
              "      <td>19</td>\n",
              "      <td>11</td>\n",
              "      <td>0</td>\n",
              "      <td>17</td>\n",
              "      <td>17</td>\n",
              "      <td>18</td>\n",
              "    </tr>\n",
              "  </tbody>\n",
              "</table>\n",
              "<p>1 rows × 35 columns</p>\n",
              "</div>\n",
              "      <button class=\"colab-df-convert\" onclick=\"convertToInteractive('df-8dafaac6-5959-4c47-be99-1a2e52255575')\"\n",
              "              title=\"Convert this dataframe to an interactive table.\"\n",
              "              style=\"display:none;\">\n",
              "        \n",
              "  <svg xmlns=\"http://www.w3.org/2000/svg\" height=\"24px\"viewBox=\"0 0 24 24\"\n",
              "       width=\"24px\">\n",
              "    <path d=\"M0 0h24v24H0V0z\" fill=\"none\"/>\n",
              "    <path d=\"M18.56 5.44l.94 2.06.94-2.06 2.06-.94-2.06-.94-.94-2.06-.94 2.06-2.06.94zm-11 1L8.5 8.5l.94-2.06 2.06-.94-2.06-.94L8.5 2.5l-.94 2.06-2.06.94zm10 10l.94 2.06.94-2.06 2.06-.94-2.06-.94-.94-2.06-.94 2.06-2.06.94z\"/><path d=\"M17.41 7.96l-1.37-1.37c-.4-.4-.92-.59-1.43-.59-.52 0-1.04.2-1.43.59L10.3 9.45l-7.72 7.72c-.78.78-.78 2.05 0 2.83L4 21.41c.39.39.9.59 1.41.59.51 0 1.02-.2 1.41-.59l7.78-7.78 2.81-2.81c.8-.78.8-2.07 0-2.86zM5.41 20L4 18.59l7.72-7.72 1.47 1.35L5.41 20z\"/>\n",
              "  </svg>\n",
              "      </button>\n",
              "      \n",
              "  <style>\n",
              "    .colab-df-container {\n",
              "      display:flex;\n",
              "      flex-wrap:wrap;\n",
              "      gap: 12px;\n",
              "    }\n",
              "\n",
              "    .colab-df-convert {\n",
              "      background-color: #E8F0FE;\n",
              "      border: none;\n",
              "      border-radius: 50%;\n",
              "      cursor: pointer;\n",
              "      display: none;\n",
              "      fill: #1967D2;\n",
              "      height: 32px;\n",
              "      padding: 0 0 0 0;\n",
              "      width: 32px;\n",
              "    }\n",
              "\n",
              "    .colab-df-convert:hover {\n",
              "      background-color: #E2EBFA;\n",
              "      box-shadow: 0px 1px 2px rgba(60, 64, 67, 0.3), 0px 1px 3px 1px rgba(60, 64, 67, 0.15);\n",
              "      fill: #174EA6;\n",
              "    }\n",
              "\n",
              "    [theme=dark] .colab-df-convert {\n",
              "      background-color: #3B4455;\n",
              "      fill: #D2E3FC;\n",
              "    }\n",
              "\n",
              "    [theme=dark] .colab-df-convert:hover {\n",
              "      background-color: #434B5C;\n",
              "      box-shadow: 0px 1px 3px 1px rgba(0, 0, 0, 0.15);\n",
              "      filter: drop-shadow(0px 1px 2px rgba(0, 0, 0, 0.3));\n",
              "      fill: #FFFFFF;\n",
              "    }\n",
              "  </style>\n",
              "\n",
              "      <script>\n",
              "        const buttonEl =\n",
              "          document.querySelector('#df-8dafaac6-5959-4c47-be99-1a2e52255575 button.colab-df-convert');\n",
              "        buttonEl.style.display =\n",
              "          google.colab.kernel.accessAllowed ? 'block' : 'none';\n",
              "\n",
              "        async function convertToInteractive(key) {\n",
              "          const element = document.querySelector('#df-8dafaac6-5959-4c47-be99-1a2e52255575');\n",
              "          const dataTable =\n",
              "            await google.colab.kernel.invokeFunction('convertToInteractive',\n",
              "                                                     [key], {});\n",
              "          if (!dataTable) return;\n",
              "\n",
              "          const docLinkHtml = 'Like what you see? Visit the ' +\n",
              "            '<a target=\"_blank\" href=https://colab.research.google.com/notebooks/data_table.ipynb>data table notebook</a>'\n",
              "            + ' to learn more about interactive tables.';\n",
              "          element.innerHTML = '';\n",
              "          dataTable['output_type'] = 'display_data';\n",
              "          await google.colab.output.renderOutput(dataTable, element);\n",
              "          const docLink = document.createElement('div');\n",
              "          docLink.innerHTML = docLinkHtml;\n",
              "          element.appendChild(docLink);\n",
              "        }\n",
              "      </script>\n",
              "    </div>\n",
              "  </div>\n",
              "  "
            ]
          },
          "metadata": {},
          "execution_count": 24
        }
      ]
    },
    {
      "cell_type": "code",
      "source": [
        "#16. Which country made more number of goal save? \n",
        "df[df['Goals conceded'] == df['Goals conceded'].max()]"
      ],
      "metadata": {
        "colab": {
          "base_uri": "https://localhost:8080/",
          "height": 261
        },
        "id": "nKmq7IH-Hzkt",
        "outputId": "e838fffc-a297-459c-e526-ab4b5ef970bf"
      },
      "execution_count": 27,
      "outputs": [
        {
          "output_type": "execute_result",
          "data": {
            "text/plain": [
              "                   Team  Goals  Shots on target  Shots off target  \\\n",
              "11  Republic of Ireland      1                7                12   \n",
              "\n",
              "   Shooting Accuracy % Goals-to-shots  Total shots (inc. Blocked)  \\\n",
              "11            36.80%            5.20%                          28   \n",
              "\n",
              "    Hit Woodwork  Penalty goals  Penalties not scored  ...  Saves made  \\\n",
              "11             0              0                     0  ...          17   \n",
              "\n",
              "    Saves-to-shots ratio  Fouls Won Fouls Conceded  Offsides  Yellow Cards  \\\n",
              "11                65.40%         43             51        11             6   \n",
              "\n",
              "    Red Cards  Subs on  Subs off  Players Used  \n",
              "11          1       10        10            17  \n",
              "\n",
              "[1 rows x 35 columns]"
            ],
            "text/html": [
              "\n",
              "  <div id=\"df-20efa84e-b4a1-4d90-a6f1-13dbcfbea977\">\n",
              "    <div class=\"colab-df-container\">\n",
              "      <div>\n",
              "<style scoped>\n",
              "    .dataframe tbody tr th:only-of-type {\n",
              "        vertical-align: middle;\n",
              "    }\n",
              "\n",
              "    .dataframe tbody tr th {\n",
              "        vertical-align: top;\n",
              "    }\n",
              "\n",
              "    .dataframe thead th {\n",
              "        text-align: right;\n",
              "    }\n",
              "</style>\n",
              "<table border=\"1\" class=\"dataframe\">\n",
              "  <thead>\n",
              "    <tr style=\"text-align: right;\">\n",
              "      <th></th>\n",
              "      <th>Team</th>\n",
              "      <th>Goals</th>\n",
              "      <th>Shots on target</th>\n",
              "      <th>Shots off target</th>\n",
              "      <th>Shooting Accuracy</th>\n",
              "      <th>% Goals-to-shots</th>\n",
              "      <th>Total shots (inc. Blocked)</th>\n",
              "      <th>Hit Woodwork</th>\n",
              "      <th>Penalty goals</th>\n",
              "      <th>Penalties not scored</th>\n",
              "      <th>...</th>\n",
              "      <th>Saves made</th>\n",
              "      <th>Saves-to-shots ratio</th>\n",
              "      <th>Fouls Won</th>\n",
              "      <th>Fouls Conceded</th>\n",
              "      <th>Offsides</th>\n",
              "      <th>Yellow Cards</th>\n",
              "      <th>Red Cards</th>\n",
              "      <th>Subs on</th>\n",
              "      <th>Subs off</th>\n",
              "      <th>Players Used</th>\n",
              "    </tr>\n",
              "  </thead>\n",
              "  <tbody>\n",
              "    <tr>\n",
              "      <th>11</th>\n",
              "      <td>Republic of Ireland</td>\n",
              "      <td>1</td>\n",
              "      <td>7</td>\n",
              "      <td>12</td>\n",
              "      <td>36.80%</td>\n",
              "      <td>5.20%</td>\n",
              "      <td>28</td>\n",
              "      <td>0</td>\n",
              "      <td>0</td>\n",
              "      <td>0</td>\n",
              "      <td>...</td>\n",
              "      <td>17</td>\n",
              "      <td>65.40%</td>\n",
              "      <td>43</td>\n",
              "      <td>51</td>\n",
              "      <td>11</td>\n",
              "      <td>6</td>\n",
              "      <td>1</td>\n",
              "      <td>10</td>\n",
              "      <td>10</td>\n",
              "      <td>17</td>\n",
              "    </tr>\n",
              "  </tbody>\n",
              "</table>\n",
              "<p>1 rows × 35 columns</p>\n",
              "</div>\n",
              "      <button class=\"colab-df-convert\" onclick=\"convertToInteractive('df-20efa84e-b4a1-4d90-a6f1-13dbcfbea977')\"\n",
              "              title=\"Convert this dataframe to an interactive table.\"\n",
              "              style=\"display:none;\">\n",
              "        \n",
              "  <svg xmlns=\"http://www.w3.org/2000/svg\" height=\"24px\"viewBox=\"0 0 24 24\"\n",
              "       width=\"24px\">\n",
              "    <path d=\"M0 0h24v24H0V0z\" fill=\"none\"/>\n",
              "    <path d=\"M18.56 5.44l.94 2.06.94-2.06 2.06-.94-2.06-.94-.94-2.06-.94 2.06-2.06.94zm-11 1L8.5 8.5l.94-2.06 2.06-.94-2.06-.94L8.5 2.5l-.94 2.06-2.06.94zm10 10l.94 2.06.94-2.06 2.06-.94-2.06-.94-.94-2.06-.94 2.06-2.06.94z\"/><path d=\"M17.41 7.96l-1.37-1.37c-.4-.4-.92-.59-1.43-.59-.52 0-1.04.2-1.43.59L10.3 9.45l-7.72 7.72c-.78.78-.78 2.05 0 2.83L4 21.41c.39.39.9.59 1.41.59.51 0 1.02-.2 1.41-.59l7.78-7.78 2.81-2.81c.8-.78.8-2.07 0-2.86zM5.41 20L4 18.59l7.72-7.72 1.47 1.35L5.41 20z\"/>\n",
              "  </svg>\n",
              "      </button>\n",
              "      \n",
              "  <style>\n",
              "    .colab-df-container {\n",
              "      display:flex;\n",
              "      flex-wrap:wrap;\n",
              "      gap: 12px;\n",
              "    }\n",
              "\n",
              "    .colab-df-convert {\n",
              "      background-color: #E8F0FE;\n",
              "      border: none;\n",
              "      border-radius: 50%;\n",
              "      cursor: pointer;\n",
              "      display: none;\n",
              "      fill: #1967D2;\n",
              "      height: 32px;\n",
              "      padding: 0 0 0 0;\n",
              "      width: 32px;\n",
              "    }\n",
              "\n",
              "    .colab-df-convert:hover {\n",
              "      background-color: #E2EBFA;\n",
              "      box-shadow: 0px 1px 2px rgba(60, 64, 67, 0.3), 0px 1px 3px 1px rgba(60, 64, 67, 0.15);\n",
              "      fill: #174EA6;\n",
              "    }\n",
              "\n",
              "    [theme=dark] .colab-df-convert {\n",
              "      background-color: #3B4455;\n",
              "      fill: #D2E3FC;\n",
              "    }\n",
              "\n",
              "    [theme=dark] .colab-df-convert:hover {\n",
              "      background-color: #434B5C;\n",
              "      box-shadow: 0px 1px 3px 1px rgba(0, 0, 0, 0.15);\n",
              "      filter: drop-shadow(0px 1px 2px rgba(0, 0, 0, 0.3));\n",
              "      fill: #FFFFFF;\n",
              "    }\n",
              "  </style>\n",
              "\n",
              "      <script>\n",
              "        const buttonEl =\n",
              "          document.querySelector('#df-20efa84e-b4a1-4d90-a6f1-13dbcfbea977 button.colab-df-convert');\n",
              "        buttonEl.style.display =\n",
              "          google.colab.kernel.accessAllowed ? 'block' : 'none';\n",
              "\n",
              "        async function convertToInteractive(key) {\n",
              "          const element = document.querySelector('#df-20efa84e-b4a1-4d90-a6f1-13dbcfbea977');\n",
              "          const dataTable =\n",
              "            await google.colab.kernel.invokeFunction('convertToInteractive',\n",
              "                                                     [key], {});\n",
              "          if (!dataTable) return;\n",
              "\n",
              "          const docLinkHtml = 'Like what you see? Visit the ' +\n",
              "            '<a target=\"_blank\" href=https://colab.research.google.com/notebooks/data_table.ipynb>data table notebook</a>'\n",
              "            + ' to learn more about interactive tables.';\n",
              "          element.innerHTML = '';\n",
              "          dataTable['output_type'] = 'display_data';\n",
              "          await google.colab.output.renderOutput(dataTable, element);\n",
              "          const docLink = document.createElement('div');\n",
              "          docLink.innerHTML = docLinkHtml;\n",
              "          element.appendChild(docLink);\n",
              "        }\n",
              "      </script>\n",
              "    </div>\n",
              "  </div>\n",
              "  "
            ]
          },
          "metadata": {},
          "execution_count": 27
        }
      ]
    },
    {
      "cell_type": "code",
      "source": [
        "#17. Which country has highest shooting accuracy?\n",
        "df[df['Shooting Accuracy'] == df['Shooting Accuracy'].max()]"
      ],
      "metadata": {
        "colab": {
          "base_uri": "https://localhost:8080/",
          "height": 226
        },
        "id": "94F3H2adIkRx",
        "outputId": "516496a9-474f-4f54-9e4d-bfae9b907af2"
      },
      "execution_count": 28,
      "outputs": [
        {
          "output_type": "execute_result",
          "data": {
            "text/plain": [
              "     Team  Goals  Shots on target  Shots off target Shooting Accuracy  \\\n",
              "13  Spain     12               42                33            55.90%   \n",
              "\n",
              "   % Goals-to-shots  Total shots (inc. Blocked)  Hit Woodwork  Penalty goals  \\\n",
              "13           16.00%                         100             0              1   \n",
              "\n",
              "    Penalties not scored  ...  Saves made  Saves-to-shots ratio  Fouls Won  \\\n",
              "13                     0  ...          15                93.80%        102   \n",
              "\n",
              "   Fouls Conceded  Offsides  Yellow Cards  Red Cards  Subs on  Subs off  \\\n",
              "13             83        19            11          0       17        17   \n",
              "\n",
              "    Players Used  \n",
              "13            18  \n",
              "\n",
              "[1 rows x 35 columns]"
            ],
            "text/html": [
              "\n",
              "  <div id=\"df-021c3d72-5671-4c84-a13f-c4b96838cdb9\">\n",
              "    <div class=\"colab-df-container\">\n",
              "      <div>\n",
              "<style scoped>\n",
              "    .dataframe tbody tr th:only-of-type {\n",
              "        vertical-align: middle;\n",
              "    }\n",
              "\n",
              "    .dataframe tbody tr th {\n",
              "        vertical-align: top;\n",
              "    }\n",
              "\n",
              "    .dataframe thead th {\n",
              "        text-align: right;\n",
              "    }\n",
              "</style>\n",
              "<table border=\"1\" class=\"dataframe\">\n",
              "  <thead>\n",
              "    <tr style=\"text-align: right;\">\n",
              "      <th></th>\n",
              "      <th>Team</th>\n",
              "      <th>Goals</th>\n",
              "      <th>Shots on target</th>\n",
              "      <th>Shots off target</th>\n",
              "      <th>Shooting Accuracy</th>\n",
              "      <th>% Goals-to-shots</th>\n",
              "      <th>Total shots (inc. Blocked)</th>\n",
              "      <th>Hit Woodwork</th>\n",
              "      <th>Penalty goals</th>\n",
              "      <th>Penalties not scored</th>\n",
              "      <th>...</th>\n",
              "      <th>Saves made</th>\n",
              "      <th>Saves-to-shots ratio</th>\n",
              "      <th>Fouls Won</th>\n",
              "      <th>Fouls Conceded</th>\n",
              "      <th>Offsides</th>\n",
              "      <th>Yellow Cards</th>\n",
              "      <th>Red Cards</th>\n",
              "      <th>Subs on</th>\n",
              "      <th>Subs off</th>\n",
              "      <th>Players Used</th>\n",
              "    </tr>\n",
              "  </thead>\n",
              "  <tbody>\n",
              "    <tr>\n",
              "      <th>13</th>\n",
              "      <td>Spain</td>\n",
              "      <td>12</td>\n",
              "      <td>42</td>\n",
              "      <td>33</td>\n",
              "      <td>55.90%</td>\n",
              "      <td>16.00%</td>\n",
              "      <td>100</td>\n",
              "      <td>0</td>\n",
              "      <td>1</td>\n",
              "      <td>0</td>\n",
              "      <td>...</td>\n",
              "      <td>15</td>\n",
              "      <td>93.80%</td>\n",
              "      <td>102</td>\n",
              "      <td>83</td>\n",
              "      <td>19</td>\n",
              "      <td>11</td>\n",
              "      <td>0</td>\n",
              "      <td>17</td>\n",
              "      <td>17</td>\n",
              "      <td>18</td>\n",
              "    </tr>\n",
              "  </tbody>\n",
              "</table>\n",
              "<p>1 rows × 35 columns</p>\n",
              "</div>\n",
              "      <button class=\"colab-df-convert\" onclick=\"convertToInteractive('df-021c3d72-5671-4c84-a13f-c4b96838cdb9')\"\n",
              "              title=\"Convert this dataframe to an interactive table.\"\n",
              "              style=\"display:none;\">\n",
              "        \n",
              "  <svg xmlns=\"http://www.w3.org/2000/svg\" height=\"24px\"viewBox=\"0 0 24 24\"\n",
              "       width=\"24px\">\n",
              "    <path d=\"M0 0h24v24H0V0z\" fill=\"none\"/>\n",
              "    <path d=\"M18.56 5.44l.94 2.06.94-2.06 2.06-.94-2.06-.94-.94-2.06-.94 2.06-2.06.94zm-11 1L8.5 8.5l.94-2.06 2.06-.94-2.06-.94L8.5 2.5l-.94 2.06-2.06.94zm10 10l.94 2.06.94-2.06 2.06-.94-2.06-.94-.94-2.06-.94 2.06-2.06.94z\"/><path d=\"M17.41 7.96l-1.37-1.37c-.4-.4-.92-.59-1.43-.59-.52 0-1.04.2-1.43.59L10.3 9.45l-7.72 7.72c-.78.78-.78 2.05 0 2.83L4 21.41c.39.39.9.59 1.41.59.51 0 1.02-.2 1.41-.59l7.78-7.78 2.81-2.81c.8-.78.8-2.07 0-2.86zM5.41 20L4 18.59l7.72-7.72 1.47 1.35L5.41 20z\"/>\n",
              "  </svg>\n",
              "      </button>\n",
              "      \n",
              "  <style>\n",
              "    .colab-df-container {\n",
              "      display:flex;\n",
              "      flex-wrap:wrap;\n",
              "      gap: 12px;\n",
              "    }\n",
              "\n",
              "    .colab-df-convert {\n",
              "      background-color: #E8F0FE;\n",
              "      border: none;\n",
              "      border-radius: 50%;\n",
              "      cursor: pointer;\n",
              "      display: none;\n",
              "      fill: #1967D2;\n",
              "      height: 32px;\n",
              "      padding: 0 0 0 0;\n",
              "      width: 32px;\n",
              "    }\n",
              "\n",
              "    .colab-df-convert:hover {\n",
              "      background-color: #E2EBFA;\n",
              "      box-shadow: 0px 1px 2px rgba(60, 64, 67, 0.3), 0px 1px 3px 1px rgba(60, 64, 67, 0.15);\n",
              "      fill: #174EA6;\n",
              "    }\n",
              "\n",
              "    [theme=dark] .colab-df-convert {\n",
              "      background-color: #3B4455;\n",
              "      fill: #D2E3FC;\n",
              "    }\n",
              "\n",
              "    [theme=dark] .colab-df-convert:hover {\n",
              "      background-color: #434B5C;\n",
              "      box-shadow: 0px 1px 3px 1px rgba(0, 0, 0, 0.15);\n",
              "      filter: drop-shadow(0px 1px 2px rgba(0, 0, 0, 0.3));\n",
              "      fill: #FFFFFF;\n",
              "    }\n",
              "  </style>\n",
              "\n",
              "      <script>\n",
              "        const buttonEl =\n",
              "          document.querySelector('#df-021c3d72-5671-4c84-a13f-c4b96838cdb9 button.colab-df-convert');\n",
              "        buttonEl.style.display =\n",
              "          google.colab.kernel.accessAllowed ? 'block' : 'none';\n",
              "\n",
              "        async function convertToInteractive(key) {\n",
              "          const element = document.querySelector('#df-021c3d72-5671-4c84-a13f-c4b96838cdb9');\n",
              "          const dataTable =\n",
              "            await google.colab.kernel.invokeFunction('convertToInteractive',\n",
              "                                                     [key], {});\n",
              "          if (!dataTable) return;\n",
              "\n",
              "          const docLinkHtml = 'Like what you see? Visit the ' +\n",
              "            '<a target=\"_blank\" href=https://colab.research.google.com/notebooks/data_table.ipynb>data table notebook</a>'\n",
              "            + ' to learn more about interactive tables.';\n",
              "          element.innerHTML = '';\n",
              "          dataTable['output_type'] = 'display_data';\n",
              "          await google.colab.output.renderOutput(dataTable, element);\n",
              "          const docLink = document.createElement('div');\n",
              "          docLink.innerHTML = docLinkHtml;\n",
              "          element.appendChild(docLink);\n",
              "        }\n",
              "      </script>\n",
              "    </div>\n",
              "  </div>\n",
              "  "
            ]
          },
          "metadata": {},
          "execution_count": 28
        }
      ]
    },
    {
      "cell_type": "code",
      "source": [
        "#18. List the teams in the order of goals scored.\n",
        "df.sort_values(by=['Goals'], inplace = True) \n",
        "print(df)"
      ],
      "metadata": {
        "colab": {
          "base_uri": "https://localhost:8080/"
        },
        "id": "LoKDNswUJBqg",
        "outputId": "7de6c1ab-b359-4f89-daa1-6292ab5cb5c1"
      },
      "execution_count": 29,
      "outputs": [
        {
          "output_type": "stream",
          "name": "stdout",
          "text": [
            "                   Team  Goals  Shots on target  Shots off target  \\\n",
            "11  Republic of Ireland      1                7                12   \n",
            "8           Netherlands      2               12                36   \n",
            "9                Poland      2               15                23   \n",
            "15              Ukraine      2                7                26   \n",
            "4                France      3               22                24   \n",
            "0               Croatia      4               13                12   \n",
            "1        Czech Republic      4               13                18   \n",
            "2               Denmark      4               10                10   \n",
            "3               England      5               11                18   \n",
            "6                Greece      5                8                18   \n",
            "12               Russia      5                9                31   \n",
            "14               Sweden      5               17                19   \n",
            "7                 Italy      6               34                45   \n",
            "10             Portugal      6               22                42   \n",
            "5               Germany     10               32                32   \n",
            "13                Spain     12               42                33   \n",
            "\n",
            "   Shooting Accuracy % Goals-to-shots  Total shots (inc. Blocked)  \\\n",
            "11            36.80%            5.20%                          28   \n",
            "8             25.00%            4.10%                          60   \n",
            "9             39.40%            5.20%                          48   \n",
            "15            21.20%            6.00%                          38   \n",
            "4             37.90%            6.50%                          65   \n",
            "0             51.90%           16.00%                          32   \n",
            "1             41.90%           12.90%                          39   \n",
            "2             50.00%           20.00%                          27   \n",
            "3             50.00%           17.20%                          40   \n",
            "6             30.70%           19.20%                          32   \n",
            "12            22.50%           12.50%                          59   \n",
            "14            47.20%           13.80%                          39   \n",
            "7             43.00%            7.50%                         110   \n",
            "10            34.30%            9.30%                          82   \n",
            "5             47.80%           15.60%                          80   \n",
            "13            55.90%           16.00%                         100   \n",
            "\n",
            "    Hit Woodwork  Penalty goals  Penalties not scored  ...  Saves made  \\\n",
            "11             0              0                     0  ...          17   \n",
            "8              2              0                     0  ...          12   \n",
            "9              0              0                     0  ...           6   \n",
            "15             0              0                     0  ...          13   \n",
            "4              1              0                     0  ...           6   \n",
            "0              0              0                     0  ...          13   \n",
            "1              0              0                     0  ...           9   \n",
            "2              1              0                     0  ...          10   \n",
            "3              0              0                     0  ...          22   \n",
            "6              1              1                     1  ...          13   \n",
            "12             2              0                     0  ...          10   \n",
            "14             3              0                     0  ...           8   \n",
            "7              2              0                     0  ...          20   \n",
            "10             6              0                     0  ...          10   \n",
            "5              2              1                     0  ...          10   \n",
            "13             0              1                     0  ...          15   \n",
            "\n",
            "    Saves-to-shots ratio  Fouls Won Fouls Conceded  Offsides  Yellow Cards  \\\n",
            "11                65.40%         43             51        11             6   \n",
            "8                 70.60%         35             30         3             5   \n",
            "9                 66.70%         48             56         3             7   \n",
            "15                76.50%         48             31         4             5   \n",
            "4                 54.60%         36             51         5             6   \n",
            "0                 81.30%         41             62         2             9   \n",
            "1                 60.10%         53             73         8             7   \n",
            "2                 66.70%         25             38         8             4   \n",
            "3                 88.10%         43             45         6             5   \n",
            "6                 65.10%         67             48        12             9   \n",
            "12                77.00%         34             43         4             6   \n",
            "14                61.60%         35             51         7             7   \n",
            "7                 74.10%        101             89        16            16   \n",
            "10                71.50%         73             90        10            12   \n",
            "5                 62.60%         63             49        12             4   \n",
            "13                93.80%        102             83        19            11   \n",
            "\n",
            "    Red Cards  Subs on  Subs off  Players Used  \n",
            "11          1       10        10            17  \n",
            "8           0        7         7            15  \n",
            "9           1        7         7            17  \n",
            "15          0        9         9            18  \n",
            "4           0       11        11            19  \n",
            "0           0        9         9            16  \n",
            "1           0       11        11            19  \n",
            "2           0        7         7            15  \n",
            "3           0       11        11            16  \n",
            "6           1       12        12            20  \n",
            "12          0        7         7            16  \n",
            "14          0        9         9            18  \n",
            "7           0       18        18            19  \n",
            "10          0       14        14            16  \n",
            "5           0       15        15            17  \n",
            "13          0       17        17            18  \n",
            "\n",
            "[16 rows x 35 columns]\n"
          ]
        }
      ]
    }
  ]
}