{
  "nbformat": 4,
  "nbformat_minor": 0,
  "metadata": {
    "colab": {
      "name": "weather.ipynb",
      "provenance": [],
      "collapsed_sections": []
    },
    "kernelspec": {
      "name": "python3",
      "display_name": "Python 3"
    },
    "language_info": {
      "name": "python"
    }
  },
  "cells": [
    {
      "cell_type": "code",
      "execution_count": 1,
      "metadata": {
        "id": "ifff786GygFl"
      },
      "outputs": [],
      "source": [
        "#1. Add column average temperature for each year\n",
        "import pandas as pd\n",
        "\n",
        "# Read data from dataset\n",
        "def getDataset(fname):\n",
        "\tdf = pd.read_csv(fname)\n",
        "\tdel df['Unnamed: 0']\n",
        "\treturn df\n"
      ]
    },
    {
      "cell_type": "code",
      "source": [
        "#2. Add row average temperature of each month\n",
        "#3. Add columns Min and Max for each year with corresponding values\n",
        "# Q1 and Q3 Add columns for Average, Min and Max\n",
        "def addColumns(df):\n",
        "\tdf['Average'] = df.iloc[:,1:].mean(axis = 1)\n",
        "\tdf['Min'] = df.iloc[:,1:-1].min(axis = 1)\n",
        "\tdf['Max'] = df.iloc[:,1:-2].max(axis = 1)\n",
        "\treturn df\n"
      ],
      "metadata": {
        "id": "aFgyf_-1zWRW"
      },
      "execution_count": 2,
      "outputs": []
    },
    {
      "cell_type": "code",
      "source": [
        "\n",
        "# Q2 Add row which gives average monthly temperature\n",
        "def addRow(df):\n",
        "\tdf.loc['Average'] = df.iloc[:,1:-3].mean()\n",
        "\treturn df\n",
        "\n"
      ],
      "metadata": {
        "id": "4J0ToHHgzauZ"
      },
      "execution_count": 4,
      "outputs": []
    },
    {
      "cell_type": "code",
      "source": [
        "# Q4 Create dataframe called 'decade', storing \n",
        "#    average temperatures of each month in the respective decade.\n",
        "def decadeDataframe(df):\n",
        "\tdf = df.iloc[:-1,1:-3]\n",
        "\n",
        "\tdata = []\n",
        "\tfor i in range(0, 117, 10):\n",
        "\t\tif i != 110:\n",
        "\t\t\tdata.append(list(df.iloc[i:i+10, :].mean().values))\n",
        "\t\telse:\n",
        "\t\t\tdata.append(list(df.iloc[i:i+7, :].mean().values))\n",
        "\tdecades = [i for i in range(1910, 2030, 10)]\t\n",
        "\tmonths = list(df.columns)\n",
        "\tdf_decade = pd.DataFrame(data, columns = months)\n",
        "\tdf_decade['Decade'] = decades\t"
      ],
      "metadata": {
        "id": "YkbDpBj3zgFJ"
      },
      "execution_count": 5,
      "outputs": []
    },
    {
      "cell_type": "code",
      "source": [
        "# Q5 Hottest year based on average temperature\n",
        "def hottestYear(df):\n",
        "\tprint (list(df[df['Average'] == df['Average'].max()].values)[0][0])"
      ],
      "metadata": {
        "id": "iYTFRZICzjlE"
      },
      "execution_count": 11,
      "outputs": []
    },
    {
      "cell_type": "code",
      "source": [
        "\n",
        "# Q6 Coldest year based on average temperature\n",
        "def coldestYear(df):\n",
        "\tprint (list(df[df['Average'] == df['Average'].min()].values)[0][0])"
      ],
      "metadata": {
        "id": "JSwqVD7tzmAD"
      },
      "execution_count": 7,
      "outputs": []
    },
    {
      "cell_type": "code",
      "source": [
        "\n",
        "# Q7 Year recorded Min temperature\n",
        "def yearMinTemperature(df):\n",
        "\tprint (list(df[df['Min'] == df['Min'].min()].values)[0][0])\t\n"
      ],
      "metadata": {
        "id": "MKlUEYIBzoVo"
      },
      "execution_count": 8,
      "outputs": []
    },
    {
      "cell_type": "code",
      "source": [
        "# Q7 Year recorded Max temperature\n",
        "def yearMaxTemperature(df):\n",
        "\tprint (list(df[df['Max'] == df['Max'].max()].values)[0][0])"
      ],
      "metadata": {
        "id": "RRpcQ51XzqKV"
      },
      "execution_count": 23,
      "outputs": []
    },
    {
      "cell_type": "code",
      "source": [
        "def main():\n",
        "\tdset = getDataset('Weather Data in India from 1901 to 2017.csv')\n",
        "\tdset = addColumns(dset)\n",
        "\tdset = addRow(dset)\n",
        "\tdecadeDataframe(dset)\n",
        "\thottestYear(dset)\n",
        "\tcoldestYear(dset)\n",
        "\tyearMinTemperature(dset)\n",
        "\tyearMaxTemperature(dset)\n",
        "\n",
        "if __name__ == '__main__':\n",
        "\tmain()"
      ],
      "metadata": {
        "colab": {
          "base_uri": "https://localhost:8080/"
        },
        "id": "yis58ySD0wIW",
        "outputId": "4f402837-11ef-47c0-8b9d-93d1c24dcc43"
      },
      "execution_count": 34,
      "outputs": [
        {
          "output_type": "stream",
          "name": "stdout",
          "text": [
            "2016.0\n",
            "1917.0\n",
            "1918.0\n",
            "1921.0\n"
          ]
        }
      ]
    }
  ]
}